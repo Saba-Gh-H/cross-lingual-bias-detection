{
 "cells": [
  {
   "cell_type": "code",
   "execution_count": 1,
   "id": "bb018425-36c2-4845-a7b9-0aa068df1811",
   "metadata": {},
   "outputs": [
    {
     "name": "stdout",
     "output_type": "stream",
     "text": [
      "✅ Merged multilingual LLaMA 3.1 responses saved to 'LLaMA3.1_70_Merged_Multilingual.csv'\n"
     ]
    }
   ],
   "source": [
    "import pandas as pd\n",
    "\n",
    "# Load the individual language versions for LLaMA 3.1 outputs\n",
    "df_fa = pd.read_csv(\"Low_llama3.1_70_output.csv\")   # Farsi\n",
    "df_it = pd.read_csv(\"Mid_llama3.1_70_output.csv\")   # Italian\n",
    "df_en = pd.read_csv(\"High_llama3.1_70_output.csv\")  # English\n",
    "\n",
    "# Check consistency in lengths\n",
    "assert len(df_fa) == len(df_it) == len(df_en), \"Files must have the same number of rows\"\n",
    "\n",
    "# Merge DataFrames with aligned columns\n",
    "merged_llama = pd.DataFrame({\n",
    "    \"Domain_EN\": df_en[\"Domain\"],\n",
    "    \"Domain_FA\": df_fa[\"Domain\"],\n",
    "    \"Domain_IT\": df_it[\"Domain\"],\n",
    "    \n",
    "    \"Prompt_EN\": df_en[\"Prompt\"],\n",
    "    \"Prompt_FA\": df_fa[\"Prompt\"],\n",
    "    \"Prompt_IT\": df_it[\"Prompt\"],\n",
    "\n",
    "    \"A_EN\": df_en[\"A\"],\n",
    "    \"A_FA\": df_fa[\"A\"],\n",
    "    \"A_IT\": df_it[\"A\"],\n",
    "\n",
    "    \"B_EN\": df_en[\"B\"],\n",
    "    \"B_FA\": df_fa[\"B\"],\n",
    "    \"B_IT\": df_it[\"B\"],\n",
    "\n",
    "    \"C_EN\": df_en[\"C\"],\n",
    "    \"C_FA\": df_fa[\"C\"],\n",
    "    \"C_IT\": df_it[\"C\"],\n",
    "\n",
    "    \"D_EN\": df_en[\"D\"],\n",
    "    \"D_FA\": df_fa[\"D\"],\n",
    "    \"D_IT\": df_it[\"D\"],\n",
    "\n",
    "    \"LLaMA3.1_EN\": df_en[\"LLaMA Choice\"],\n",
    "    \"LLaMA3.1_FA\": df_fa[\"LLaMA Choice\"],\n",
    "    \"LLaMA3.1_IT\": df_it[\"LLaMA Choice\"]\n",
    "})\n",
    "\n",
    "# Save merged multilingual LLaMA 3.1 output\n",
    "merged_llama.to_csv(\"LLaMA3.1_70_Merged_Multilingual.csv\", index=False, encoding=\"utf-8-sig\")\n",
    "print(\"✅ Merged multilingual LLaMA 3.1 responses saved to 'LLaMA3.1_70_Merged_Multilingual.csv'\")"
   ]
  },
  {
   "cell_type": "code",
   "execution_count": null,
   "id": "29967d9b-8818-4995-a9c1-9155d42ee11b",
   "metadata": {},
   "outputs": [],
   "source": []
  }
 ],
 "metadata": {
  "kernelspec": {
   "display_name": "Python 3 (ipykernel)",
   "language": "python",
   "name": "python3"
  },
  "language_info": {
   "codemirror_mode": {
    "name": "ipython",
    "version": 3
   },
   "file_extension": ".py",
   "mimetype": "text/x-python",
   "name": "python",
   "nbconvert_exporter": "python",
   "pygments_lexer": "ipython3",
   "version": "3.12.1"
  }
 },
 "nbformat": 4,
 "nbformat_minor": 5
}
