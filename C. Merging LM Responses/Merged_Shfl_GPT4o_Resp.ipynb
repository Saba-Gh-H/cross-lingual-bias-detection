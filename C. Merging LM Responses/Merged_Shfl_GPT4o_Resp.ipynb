{
 "cells": [
  {
   "cell_type": "code",
   "execution_count": 1,
   "id": "e79fe8db-ed1e-4fb2-a3e3-8af9740277e5",
   "metadata": {},
   "outputs": [
    {
     "name": "stdout",
     "output_type": "stream",
     "text": [
      "✅ Merged shuffled GPT-4o responses saved to 'GPT4o_Shuffled_Merged_Multilingual.csv'\n"
     ]
    }
   ],
   "source": [
    "import pandas as pd\n",
    "\n",
    "# Load the individual language versions for the shuffled outputs\n",
    "df_fa = pd.read_csv(\"Low - Shfl_Shfl_gpt4o_output.csv\")     # Farsi\n",
    "df_it = pd.read_csv(\"Mid - Shfl_Shfl_gpt4o_output.csv\")     # Italian\n",
    "df_en = pd.read_csv(\"High - Shfl_Shfl_gpt4o_output.csv\")    # English\n",
    "\n",
    "# Ensure all files have the same number of rows\n",
    "assert len(df_fa) == len(df_it) == len(df_en), \"Files must have same number of rows\"\n",
    "\n",
    "# Merge DataFrames with aligned fields\n",
    "merged = pd.DataFrame({\n",
    "    \"Domain_EN\": df_en[\"Domain\"],\n",
    "    \"Domain_FA\": df_fa[\"Domain\"],\n",
    "    \"Domain_IT\": df_it[\"Domain\"],\n",
    "\n",
    "    \"Prompt_EN\": df_en[\"Prompt\"],\n",
    "    \"Prompt_FA\": df_fa[\"Prompt\"],\n",
    "    \"Prompt_IT\": df_it[\"Prompt\"],\n",
    "\n",
    "    \"A_EN\": df_en[\"A\"],\n",
    "    \"A_FA\": df_fa[\"A\"],\n",
    "    \"A_IT\": df_it[\"A\"],\n",
    "\n",
    "    \"B_EN\": df_en[\"B\"],\n",
    "    \"B_FA\": df_fa[\"B\"],\n",
    "    \"B_IT\": df_it[\"B\"],\n",
    "\n",
    "    \"C_EN\": df_en[\"C\"],\n",
    "    \"C_FA\": df_fa[\"C\"],\n",
    "    \"C_IT\": df_it[\"C\"],\n",
    "\n",
    "    \"D_EN\": df_en[\"D\"],\n",
    "    \"D_FA\": df_fa[\"D\"],\n",
    "    \"D_IT\": df_it[\"D\"],\n",
    "\n",
    "    \"GPT4o_EN\": df_en[\"GPT-4o Choice\"],\n",
    "    \"GPT4o_FA\": df_fa[\"GPT-4o Choice\"],\n",
    "    \"GPT4o_IT\": df_it[\"GPT-4o Choice\"]\n",
    "})\n",
    "\n",
    "# Save merged shuffled version\n",
    "merged.to_csv(\"GPT4o_Shuffled_Merged_Multilingual.csv\", index=False, encoding=\"utf-8-sig\")\n",
    "print(\"✅ Merged shuffled GPT-4o responses saved to 'GPT4o_Shuffled_Merged_Multilingual.csv'\")\n"
   ]
  },
  {
   "cell_type": "code",
   "execution_count": null,
   "id": "269198a7-cc60-4be1-9005-19f0e95849e3",
   "metadata": {},
   "outputs": [],
   "source": []
  }
 ],
 "metadata": {
  "kernelspec": {
   "display_name": "Python 3 (ipykernel)",
   "language": "python",
   "name": "python3"
  },
  "language_info": {
   "codemirror_mode": {
    "name": "ipython",
    "version": 3
   },
   "file_extension": ".py",
   "mimetype": "text/x-python",
   "name": "python",
   "nbconvert_exporter": "python",
   "pygments_lexer": "ipython3",
   "version": "3.12.1"
  }
 },
 "nbformat": 4,
 "nbformat_minor": 5
}
