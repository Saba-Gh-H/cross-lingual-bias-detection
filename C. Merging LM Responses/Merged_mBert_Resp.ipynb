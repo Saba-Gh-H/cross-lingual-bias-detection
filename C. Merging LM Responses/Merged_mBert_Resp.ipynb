{
 "cells": [
  {
   "cell_type": "code",
   "execution_count": 1,
   "id": "009281a4-2d9d-45c4-b295-274e785bf800",
   "metadata": {},
   "outputs": [
    {
     "name": "stdout",
     "output_type": "stream",
     "text": [
      "✅ Saved merged multilingual mBERT outputs to mBERT_Merged_Multilingual.csv\n"
     ]
    }
   ],
   "source": [
    "import json\n",
    "import pandas as pd\n",
    "\n",
    "# Load each language's JSON output\n",
    "with open(\"multiple_choice_prompts_High_mbert_output.json\", encoding=\"utf-8\") as f_en:\n",
    "    data_en = json.load(f_en)\n",
    "\n",
    "with open(\"multiple_choice_prompts_Mid_mbert_output.json\", encoding=\"utf-8\") as f_it:\n",
    "    data_it = json.load(f_it)\n",
    "\n",
    "with open(\"multiple_choice_prompts_Low_mbert_output.json\", encoding=\"utf-8\") as f_fa:\n",
    "    data_fa = json.load(f_fa)\n",
    "\n",
    "# Check that all files have the same length\n",
    "assert len(data_en) == len(data_it) == len(data_fa), \"Mismatch in prompt count across files!\"\n",
    "\n",
    "rows = []\n",
    "for en, it, fa in zip(data_en, data_it, data_fa):\n",
    "    rows.append({\n",
    "        \"Domain_EN\": en[\"domain\"],\n",
    "        \"Domain_IT\": it[\"domain\"],\n",
    "        \"Domain_FA\": fa[\"domain\"],\n",
    "        \"Prompt_EN\": en[\"prompt\"],\n",
    "        \"Prompt_IT\": it[\"prompt\"],\n",
    "        \"Prompt_FA\": fa[\"prompt\"],\n",
    "        \"mBERT_EN\": en.get(\"mBERT Choice\", \"\"),\n",
    "        \"mBERT_IT\": it.get(\"mBERT Choice\", \"\"),\n",
    "        \"mBERT_FA\": fa.get(\"mBERT Choice\", \"\")\n",
    "    })\n",
    "\n",
    "# Convert to DataFrame and save\n",
    "df = pd.DataFrame(rows)\n",
    "df.to_csv(\"mBERT_Merged_Multilingual.csv\", index=False, encoding=\"utf-8-sig\")\n",
    "\n",
    "print(\"✅ Saved merged multilingual mBERT outputs to mBERT_Merged_Multilingual.csv\")\n"
   ]
  },
  {
   "cell_type": "code",
   "execution_count": null,
   "id": "32330c46-940f-41b8-bb15-46ac609480f4",
   "metadata": {},
   "outputs": [],
   "source": []
  }
 ],
 "metadata": {
  "kernelspec": {
   "display_name": "Python 3 (ipykernel)",
   "language": "python",
   "name": "python3"
  },
  "language_info": {
   "codemirror_mode": {
    "name": "ipython",
    "version": 3
   },
   "file_extension": ".py",
   "mimetype": "text/x-python",
   "name": "python",
   "nbconvert_exporter": "python",
   "pygments_lexer": "ipython3",
   "version": "3.12.1"
  }
 },
 "nbformat": 4,
 "nbformat_minor": 5
}
