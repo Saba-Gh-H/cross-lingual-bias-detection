{
 "cells": [
  {
   "cell_type": "code",
   "execution_count": 1,
   "id": "c3c6da01-70c7-49ca-977c-6c6c939a070c",
   "metadata": {},
   "outputs": [
    {
     "name": "stdout",
     "output_type": "stream",
     "text": [
      "✅ Merged shuffled LLaMA 3.1 responses saved to 'LLaMA3.1_Shuffled_Merged_Multilingual.csv'\n"
     ]
    }
   ],
   "source": [
    "import pandas as pd\n",
    "\n",
    "# Load the individual shuffled outputs for LLaMA 3.1 (70B)\n",
    "df_fa = pd.read_csv(\"Low - Shfl_Shfl_llama3.1_70_output.csv\")     # Farsi\n",
    "df_it = pd.read_csv(\"Mid - Shfl_Shfl_llama3.1_70_output.csv\")     # Italian\n",
    "df_en = pd.read_csv(\"High - Shfl_Shfl_llama3.1_70_output.csv\")    # English\n",
    "\n",
    "# Check that all files align row-wise\n",
    "assert len(df_fa) == len(df_it) == len(df_en), \"Mismatch in row counts across files.\"\n",
    "\n",
    "# Create the merged DataFrame\n",
    "merged = pd.DataFrame({\n",
    "    \"Domain_EN\": df_en[\"Domain\"],\n",
    "    \"Domain_FA\": df_fa[\"Domain\"],\n",
    "    \"Domain_IT\": df_it[\"Domain\"],\n",
    "\n",
    "    \"Prompt_EN\": df_en[\"Prompt\"],\n",
    "    \"Prompt_FA\": df_fa[\"Prompt\"],\n",
    "    \"Prompt_IT\": df_it[\"Prompt\"],\n",
    "\n",
    "    \"A_EN\": df_en[\"A\"],\n",
    "    \"A_FA\": df_fa[\"A\"],\n",
    "    \"A_IT\": df_it[\"A\"],\n",
    "\n",
    "    \"B_EN\": df_en[\"B\"],\n",
    "    \"B_FA\": df_fa[\"B\"],\n",
    "    \"B_IT\": df_it[\"B\"],\n",
    "\n",
    "    \"C_EN\": df_en[\"C\"],\n",
    "    \"C_FA\": df_fa[\"C\"],\n",
    "    \"C_IT\": df_it[\"C\"],\n",
    "\n",
    "    \"D_EN\": df_en[\"D\"],\n",
    "    \"D_FA\": df_fa[\"D\"],\n",
    "    \"D_IT\": df_it[\"D\"],\n",
    "\n",
    "    \"LLaMA3.1_EN\": df_en[\"LLaMA Choice\"],\n",
    "    \"LLaMA3.1_FA\": df_fa[\"LLaMA Choice\"],\n",
    "    \"LLaMA3.1_IT\": df_it[\"LLaMA Choice\"]\n",
    "})\n",
    "\n",
    "# Save the merged result\n",
    "merged.to_csv(\"LLaMA3.1_Shuffled_Merged_Multilingual.csv\", index=False, encoding=\"utf-8-sig\")\n",
    "print(\"✅ Merged shuffled LLaMA 3.1 responses saved to 'LLaMA3.1_Shuffled_Merged_Multilingual.csv'\")\n"
   ]
  },
  {
   "cell_type": "code",
   "execution_count": null,
   "id": "9ebab34a-4ab6-4b3a-860f-fe2693f17d94",
   "metadata": {},
   "outputs": [],
   "source": []
  }
 ],
 "metadata": {
  "kernelspec": {
   "display_name": "Python 3 (ipykernel)",
   "language": "python",
   "name": "python3"
  },
  "language_info": {
   "codemirror_mode": {
    "name": "ipython",
    "version": 3
   },
   "file_extension": ".py",
   "mimetype": "text/x-python",
   "name": "python",
   "nbconvert_exporter": "python",
   "pygments_lexer": "ipython3",
   "version": "3.12.1"
  }
 },
 "nbformat": 4,
 "nbformat_minor": 5
}
