{
 "cells": [
  {
   "cell_type": "code",
   "execution_count": 1,
   "id": "029819de-38dc-4941-873d-76d9725782ff",
   "metadata": {},
   "outputs": [
    {
     "name": "stdout",
     "output_type": "stream",
     "text": [
      "✅ Merged XLM-R predictions saved to XLM-R_Merged_Multilingual.csv\n"
     ]
    }
   ],
   "source": [
    "import json\n",
    "import pandas as pd\n",
    "\n",
    "# Load the JSON files\n",
    "with open(\"multiple_choice_prompts_High_xlmr_output.json\", encoding=\"utf-8\") as f:\n",
    "    high = json.load(f)\n",
    "\n",
    "with open(\"multiple_choice_prompts_Mid_xlmr_output.json\", encoding=\"utf-8\") as f:\n",
    "    mid = json.load(f)\n",
    "\n",
    "with open(\"multiple_choice_prompts_Low_xlmr_output.json\", encoding=\"utf-8\") as f:\n",
    "    low = json.load(f)\n",
    "\n",
    "# Build merged rows\n",
    "merged_rows = []\n",
    "for i in range(len(high)):\n",
    "    merged_rows.append({\n",
    "        \"Domain_EN\": high[i][\"domain\"],\n",
    "        \"Domain_IT\": mid[i][\"domain\"],\n",
    "        \"Domain_FA\": low[i][\"domain\"],\n",
    "        \"Prompt_EN\": high[i][\"prompt\"],\n",
    "        \"Prompt_IT\": mid[i][\"prompt\"],\n",
    "        \"Prompt_FA\": low[i][\"prompt\"],\n",
    "        \"A\": high[i][\"options\"][\"A\"],\n",
    "        \"B\": high[i][\"options\"][\"B\"],\n",
    "        \"C\": high[i][\"options\"][\"C\"],\n",
    "        \"D\": high[i][\"options\"][\"D\"],\n",
    "        \"XLMR_EN\": high[i].get(\"XLM-R Choice\", \"\"),\n",
    "        \"XLMR_IT\": mid[i].get(\"XLM-R Choice\", \"\"),\n",
    "        \"XLMR_FA\": low[i].get(\"XLM-R Choice\", \"\")\n",
    "    })\n",
    "\n",
    "# Create DataFrame and export\n",
    "df = pd.DataFrame(merged_rows)\n",
    "df.to_csv(\"XLM-R_Merged_Multilingual.csv\", index=False, encoding=\"utf-8-sig\")\n",
    "print(\"✅ Merged XLM-R predictions saved to XLM-R_Merged_Multilingual.csv\")\n"
   ]
  },
  {
   "cell_type": "code",
   "execution_count": null,
   "id": "619778f5-6e09-4ac6-9c6b-b42e752de06c",
   "metadata": {},
   "outputs": [],
   "source": []
  }
 ],
 "metadata": {
  "kernelspec": {
   "display_name": "Python 3 (ipykernel)",
   "language": "python",
   "name": "python3"
  },
  "language_info": {
   "codemirror_mode": {
    "name": "ipython",
    "version": 3
   },
   "file_extension": ".py",
   "mimetype": "text/x-python",
   "name": "python",
   "nbconvert_exporter": "python",
   "pygments_lexer": "ipython3",
   "version": "3.12.1"
  }
 },
 "nbformat": 4,
 "nbformat_minor": 5
}
