{
 "cells": [
  {
   "cell_type": "code",
   "execution_count": 1,
   "id": "15b190fd-3521-4dbf-82e4-376bea7ffd0b",
   "metadata": {},
   "outputs": [
    {
     "name": "stdout",
     "output_type": "stream",
     "text": [
      "✅ Full agreement across EN, FA, IT: 41.67%\n"
     ]
    }
   ],
   "source": [
    "import pandas as pd\n",
    "\n",
    "# Load merged Qwen2.5 output\n",
    "df = pd.read_csv(\"Qwen2.5_Merged_Multilingual.csv\")\n",
    "\n",
    "# Check if all three predictions agree\n",
    "df[\"All_Agree\"] = (\n",
    "    (df[\"Qwen2.5_EN\"] == df[\"Qwen2.5_FA\"]) &\n",
    "    (df[\"Qwen2.5_EN\"] == df[\"Qwen2.5_IT\"])\n",
    ")\n",
    "\n",
    "# Calculate agreement rate\n",
    "agreement_rate = df[\"All_Agree\"].mean() * 100\n",
    "print(f\"✅ Full agreement across EN, FA, IT: {agreement_rate:.2f}%\")\n"
   ]
  },
  {
   "cell_type": "code",
   "execution_count": 2,
   "id": "b589175c-7edb-46e6-80ab-9b8aa1f82879",
   "metadata": {},
   "outputs": [
    {
     "name": "stdout",
     "output_type": "stream",
     "text": [
      "Domain_EN\n",
      "Activism & Social Change    2\n",
      "Arts & Culture              4\n",
      "Business & Economics        3\n",
      "Caregiving & Parenting      2\n",
      "Education                   2\n",
      "Healthcare                  3\n",
      "Hospitality & Service       4\n",
      "Journalism & Media          3\n",
      "Law & Justice               4\n",
      "Politics & Leadership       3\n",
      "Religion & Spirituality     3\n",
      "Science & Technology        2\n",
      "dtype: int64\n"
     ]
    }
   ],
   "source": [
    "df[\"Disagree\"] = ~df[\"All_Agree\"]\n",
    "disagreements_by_domain = df[df[\"Disagree\"]].groupby(\"Domain_EN\").size()\n",
    "print(disagreements_by_domain)"
   ]
  },
  {
   "cell_type": "code",
   "execution_count": 3,
   "id": "3ca5c407-262c-461c-b974-cbb5508428ef",
   "metadata": {},
   "outputs": [
    {
     "name": "stdout",
     "output_type": "stream",
     "text": [
      "Disagreement_Type\n",
      "All different    32\n",
      "IT diverged      12\n",
      "FA diverged      11\n",
      "EN diverged       5\n",
      "Name: count, dtype: int64\n"
     ]
    }
   ],
   "source": [
    "import pandas as pd\n",
    "\n",
    "# Load the merged Qwen2.5 output\n",
    "df = pd.read_csv(\"Qwen2.5_Merged_Multilingual.csv\")\n",
    "\n",
    "# Add Disagreement_Type column\n",
    "df[\"Disagreement_Type\"] = df.apply(lambda row: \n",
    "    \"FA diverged\" if row[\"Qwen2.5_EN\"] == row[\"Qwen2.5_IT\"] != row[\"Qwen2.5_FA\"] else\n",
    "    \"IT diverged\" if row[\"Qwen2.5_EN\"] == row[\"Qwen2.5_FA\"] != row[\"Qwen2.5_IT\"] else\n",
    "    \"EN diverged\" if row[\"Qwen2.5_FA\"] == row[\"Qwen2.5_IT\"] != row[\"Qwen2.5_EN\"] else\n",
    "    \"All different\", axis=1\n",
    ")\n",
    "\n",
    "# Print breakdown\n",
    "print(df[\"Disagreement_Type\"].value_counts())\n"
   ]
  },
  {
   "cell_type": "code",
   "execution_count": 4,
   "id": "95283182-37fb-44e2-89d1-7998fcf71763",
   "metadata": {},
   "outputs": [
    {
     "name": "stdout",
     "output_type": "stream",
     "text": [
      "Option frequency in FA:\n",
      "Qwen2.5_FA\n",
      "B    50.0\n",
      "C    25.0\n",
      "A    15.0\n",
      "D    10.0\n",
      "Name: proportion, dtype: float64\n"
     ]
    }
   ],
   "source": [
    "print(\"Option frequency in FA:\")\n",
    "print(df[\"Qwen2.5_FA\"].value_counts(normalize=True).round(2) * 100)"
   ]
  },
  {
   "cell_type": "code",
   "execution_count": 5,
   "id": "80f575d8-3cf5-4fd6-8e03-5920f95a653f",
   "metadata": {},
   "outputs": [
    {
     "name": "stdout",
     "output_type": "stream",
     "text": [
      "✅ Exported 35 disagreement cases to Qwen2.5_Disagreements.csv\n",
      "✅ Saved domain-wise disagreement counts to Qwen2.5_Disagreement_By_Domain.csv\n",
      "\n",
      "📊 Top domains with most disagreement:\n",
      "                    Domain  Disagreement_Count\n",
      "0           Arts & Culture                   4\n",
      "1    Hospitality & Service                   4\n",
      "2            Law & Justice                   4\n",
      "3    Politics & Leadership                   3\n",
      "4       Journalism & Media                   3\n",
      "5  Religion & Spirituality                   3\n",
      "6               Healthcare                   3\n",
      "7     Business & Economics                   3\n",
      "8     Science & Technology                   2\n",
      "9                Education                   2\n"
     ]
    }
   ],
   "source": [
    "import pandas as pd\n",
    "\n",
    "# Load your aligned Qwen2.5 results\n",
    "df = pd.read_csv(\"Qwen2.5_Merged_Multilingual.csv\")\n",
    "\n",
    "# Identify disagreement rows (not all 3 agree)\n",
    "df[\"Disagreement\"] = (df[\"Qwen2.5_EN\"] != df[\"Qwen2.5_FA\"]) | \\\n",
    "                     (df[\"Qwen2.5_EN\"] != df[\"Qwen2.5_IT\"]) | \\\n",
    "                     (df[\"Qwen2.5_FA\"] != df[\"Qwen2.5_IT\"])\n",
    "\n",
    "# Export only rows with disagreement\n",
    "df_disagreement = df[df[\"Disagreement\"] == True]\n",
    "df_disagreement.to_csv(\"Qwen2.5_Disagreements.csv\", index=False)\n",
    "print(f\"✅ Exported {len(df_disagreement)} disagreement cases to Qwen2.5_Disagreements.csv\")\n",
    "\n",
    "# Count disagreement cases per domain\n",
    "disagreement_by_domain = df_disagreement[\"Domain_EN\"].value_counts().reset_index()\n",
    "disagreement_by_domain.columns = [\"Domain\", \"Disagreement_Count\"]\n",
    "disagreement_by_domain.to_csv(\"Qwen2.5_Disagreement_By_Domain.csv\", index=False)\n",
    "print(\"✅ Saved domain-wise disagreement counts to Qwen2.5_Disagreement_By_Domain.csv\")\n",
    "\n",
    "# Show top domains with most disagreement\n",
    "print(\"\\n📊 Top domains with most disagreement:\")\n",
    "print(disagreement_by_domain.head(10))\n"
   ]
  },
  {
   "cell_type": "code",
   "execution_count": 6,
   "id": "bd8391c7-97df-4010-b1a8-c60322cdd3ff",
   "metadata": {},
   "outputs": [
    {
     "name": "stdout",
     "output_type": "stream",
     "text": [
      "🔎 Full Agreement Rate:\n",
      "25/60 prompts (41.67%)\n",
      "\n",
      "🧩 Disagreement Types:\n",
      "                   count\n",
      "Disagreement_Type       \n",
      "All same              25\n",
      "IT diverged           12\n",
      "FA diverged           11\n",
      "All different          7\n",
      "EN diverged            5 \n",
      "\n",
      "🗳️ Option Frequency in Persian (Qwen2.5_FA):\n",
      "            proportion\n",
      "Qwen2.5_FA            \n",
      "B                 0.50\n",
      "C                 0.25\n",
      "A                 0.15\n",
      "D                 0.10 \n",
      "\n",
      "🌍 Domain-wise Disagreements:\n",
      "                          count\n",
      "Domain_EN                      \n",
      "Arts & Culture                4\n",
      "Hospitality & Service         4\n",
      "Law & Justice                 4\n",
      "Politics & Leadership         3\n",
      "Journalism & Media            3\n",
      "Religion & Spirituality       3\n",
      "Healthcare                    3\n",
      "Business & Economics          3\n",
      "Science & Technology          2\n",
      "Education                     2\n",
      "Activism & Social Change      2\n",
      "Caregiving & Parenting        2\n"
     ]
    }
   ],
   "source": [
    "import pandas as pd\n",
    "from collections import Counter\n",
    "\n",
    "# Load merged results file for Qwen2.5\n",
    "df = pd.read_csv(\"Qwen2.5_Merged_Multilingual.csv\")\n",
    "\n",
    "# Check full agreement\n",
    "df[\"Full_Agreement\"] = (df[\"Qwen2.5_EN\"] == df[\"Qwen2.5_FA\"]) & (df[\"Qwen2.5_EN\"] == df[\"Qwen2.5_IT\"])\n",
    "\n",
    "# Classify type of disagreement\n",
    "def classify_disagreement(row):\n",
    "    choices = {row[\"Qwen2.5_EN\"], row[\"Qwen2.5_FA\"], row[\"Qwen2.5_IT\"]}\n",
    "    if len(choices) == 1:\n",
    "        return \"All same\"\n",
    "    elif len(choices) == 3:\n",
    "        return \"All different\"\n",
    "    elif row[\"Qwen2.5_EN\"] != row[\"Qwen2.5_FA\"] and row[\"Qwen2.5_EN\"] == row[\"Qwen2.5_IT\"]:\n",
    "        return \"FA diverged\"\n",
    "    elif row[\"Qwen2.5_EN\"] != row[\"Qwen2.5_IT\"] and row[\"Qwen2.5_EN\"] == row[\"Qwen2.5_FA\"]:\n",
    "        return \"IT diverged\"\n",
    "    elif row[\"Qwen2.5_EN\"] != row[\"Qwen2.5_FA\"] and row[\"Qwen2.5_FA\"] == row[\"Qwen2.5_IT\"]:\n",
    "        return \"EN diverged\"\n",
    "    else:\n",
    "        return \"Other\"\n",
    "\n",
    "df[\"Disagreement_Type\"] = df.apply(classify_disagreement, axis=1)\n",
    "\n",
    "# Count full agreement\n",
    "agreement_count = df[\"Full_Agreement\"].sum()\n",
    "total = len(df)\n",
    "agreement_pct = agreement_count / total * 100\n",
    "\n",
    "# Disagreement breakdown\n",
    "disagreement_summary = df[\"Disagreement_Type\"].value_counts().to_frame(\"count\")\n",
    "\n",
    "# Frequency of choices in Persian\n",
    "fa_freq = df[\"Qwen2.5_FA\"].value_counts(normalize=True).rename(\"proportion\").to_frame()\n",
    "\n",
    "# Domain-wise disagreement\n",
    "domain_disagreements = df[df[\"Disagreement_Type\"] != \"All same\"][\"Domain_EN\"].value_counts().to_frame(\"count\")\n",
    "\n",
    "# Display results\n",
    "print(\"🔎 Full Agreement Rate:\")\n",
    "print(f\"{agreement_count}/{total} prompts ({agreement_pct:.2f}%)\\n\")\n",
    "\n",
    "print(\"🧩 Disagreement Types:\")\n",
    "print(disagreement_summary, \"\\n\")\n",
    "\n",
    "print(\"🗳️ Option Frequency in Persian (Qwen2.5_FA):\")\n",
    "print(fa_freq, \"\\n\")\n",
    "\n",
    "print(\"🌍 Domain-wise Disagreements:\")\n",
    "print(domain_disagreements)\n"
   ]
  },
  {
   "cell_type": "code",
   "execution_count": 1,
   "id": "afcdbba6-fca1-4d86-8bbf-4f33603f1006",
   "metadata": {},
   "outputs": [
    {
     "name": "stdout",
     "output_type": "stream",
     "text": [
      "Bootstrapped 95% CI for Qwen2.5 agreement:\n",
      "Mean agreement: 41.96%\n",
      "95% Confidence Interval: [29.96%, 55.00%]\n"
     ]
    }
   ],
   "source": [
    "import pandas as pd\n",
    "import numpy as np\n",
    "\n",
    "def bootstrap_qwen25_agreement_CI(filepath, prefix=\"Qwen2.5\", num_bootstrap=1000, confidence=0.95):\n",
    "    df = pd.read_csv(filepath)\n",
    "    en, fa, it = f\"{prefix}_EN\", f\"{prefix}_FA\", f\"{prefix}_IT\"\n",
    "    df[\"Full_Agreement\"] = (df[en] == df[fa]) & (df[en] == df[it])\n",
    "\n",
    "    bootstrapped_agreements = []\n",
    "    for _ in range(num_bootstrap):\n",
    "        sample = df.sample(frac=1.0, replace=True)\n",
    "        agreement_pct = sample[\"Full_Agreement\"].mean() * 100\n",
    "        bootstrapped_agreements.append(agreement_pct)\n",
    "\n",
    "    lower_bound = np.percentile(bootstrapped_agreements, (1 - confidence) / 2 * 100)\n",
    "    upper_bound = np.percentile(bootstrapped_agreements, (1 + confidence) / 2 * 100)\n",
    "    mean_agreement = np.mean(bootstrapped_agreements)\n",
    "\n",
    "    print(f\"Bootstrapped {int(confidence*100)}% CI for Qwen2.5 agreement:\")\n",
    "    print(f\"Mean agreement: {mean_agreement:.2f}%\")\n",
    "    print(f\"{int(confidence*100)}% Confidence Interval: [{lower_bound:.2f}%, {upper_bound:.2f}%]\")\n",
    "\n",
    "# Example usage:\n",
    "bootstrap_qwen25_agreement_CI(\"Qwen2.5_Merged_Multilingual.csv\")\n"
   ]
  },
  {
   "cell_type": "code",
   "execution_count": 3,
   "id": "cf0f55b6-0a43-4312-b7ca-146db7a8be13",
   "metadata": {},
   "outputs": [
    {
     "name": "stdout",
     "output_type": "stream",
     "text": [
      "Bootstrapped 95% CI for Qwen2.5 disagreement:\n",
      "Mean disagreement: 58.57%\n",
      "95% Confidence Interval: [46.67%, 70.04%]\n"
     ]
    }
   ],
   "source": [
    "import pandas as pd\n",
    "import numpy as np\n",
    "\n",
    "def bootstrap_qwen25_disagreement_CI(filepath, prefix=\"Qwen2.5\", num_bootstrap=1000, confidence=0.95):\n",
    "    df = pd.read_csv(filepath)\n",
    "    en, fa, it = f\"{prefix}_EN\", f\"{prefix}_FA\", f\"{prefix}_IT\"\n",
    "    df[\"Disagreement\"] = ~((df[en] == df[fa]) & (df[en] == df[it]))\n",
    "\n",
    "    bootstrapped_disagreements = []\n",
    "    for _ in range(num_bootstrap):\n",
    "        sample = df.sample(frac=1.0, replace=True)\n",
    "        disagreement_pct = sample[\"Disagreement\"].mean() * 100\n",
    "        bootstrapped_disagreements.append(disagreement_pct)\n",
    "\n",
    "    lower_bound = np.percentile(bootstrapped_disagreements, (1 - confidence) / 2 * 100)\n",
    "    upper_bound = np.percentile(bootstrapped_disagreements, (1 + confidence) / 2 * 100)\n",
    "    mean_disagreement = np.mean(bootstrapped_disagreements)\n",
    "\n",
    "    print(f\"Bootstrapped {int(confidence*100)}% CI for {prefix} disagreement:\")\n",
    "    print(f\"Mean disagreement: {mean_disagreement:.2f}%\")\n",
    "    print(f\"{int(confidence*100)}% Confidence Interval: [{lower_bound:.2f}%, {upper_bound:.2f}%]\")\n",
    "\n",
    "# Call the function\n",
    "bootstrap_qwen25_disagreement_CI(\"Qwen2.5_Merged_Multilingual.csv\")\n"
   ]
  },
  {
   "cell_type": "code",
   "execution_count": null,
   "id": "261a1844-9646-49e6-93c8-48b91284b997",
   "metadata": {},
   "outputs": [],
   "source": []
  }
 ],
 "metadata": {
  "kernelspec": {
   "display_name": "Python 3 (ipykernel)",
   "language": "python",
   "name": "python3"
  },
  "language_info": {
   "codemirror_mode": {
    "name": "ipython",
    "version": 3
   },
   "file_extension": ".py",
   "mimetype": "text/x-python",
   "name": "python",
   "nbconvert_exporter": "python",
   "pygments_lexer": "ipython3",
   "version": "3.12.1"
  }
 },
 "nbformat": 4,
 "nbformat_minor": 5
}
