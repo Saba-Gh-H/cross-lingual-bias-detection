{
 "cells": [
  {
   "cell_type": "code",
   "execution_count": 1,
   "id": "296351d7-87c3-4571-9ac5-1573321d8ec3",
   "metadata": {},
   "outputs": [
    {
     "name": "stdout",
     "output_type": "stream",
     "text": [
      "✅ Full agreement across EN, FA, IT (Shuffled): 50.00%\n"
     ]
    }
   ],
   "source": [
    "import pandas as pd\n",
    "\n",
    "# Load the merged GPT-4o shuffled output\n",
    "df = pd.read_csv(\"GPT4o_Shuffled_Merged_Multilingual.csv\")\n",
    "\n",
    "# Check if all three predictions agree across EN, FA, IT\n",
    "df[\"All_Agree\"] = (\n",
    "    (df[\"GPT4o_EN\"] == df[\"GPT4o_FA\"]) &\n",
    "    (df[\"GPT4o_EN\"] == df[\"GPT4o_IT\"])\n",
    ")\n",
    "\n",
    "# Calculate agreement rate\n",
    "agreement_rate = df[\"All_Agree\"].mean() * 100\n",
    "print(f\"✅ Full agreement across EN, FA, IT (Shuffled): {agreement_rate:.2f}%\")\n"
   ]
  },
  {
   "cell_type": "code",
   "execution_count": 2,
   "id": "973b14a4-159f-45b0-b009-99d539e2ff88",
   "metadata": {},
   "outputs": [
    {
     "name": "stdout",
     "output_type": "stream",
     "text": [
      "Domain_EN\n",
      "Activism & Social Change    3\n",
      "Arts & Culture              3\n",
      "Business & Economics        2\n",
      "Caregiving & Parenting      1\n",
      "Education                   2\n",
      "Healthcare                  2\n",
      "Hospitality & Service       3\n",
      "Journalism & Media          1\n",
      "Law & Justice               4\n",
      "Politics & Leadership       4\n",
      "Religion & Spirituality     3\n",
      "Science & Technology        2\n",
      "dtype: int64\n"
     ]
    }
   ],
   "source": [
    "df[\"Disagree\"] = ~df[\"All_Agree\"]\n",
    "disagreements_by_domain = df[df[\"Disagree\"]].groupby(\"Domain_EN\").size()\n",
    "print(disagreements_by_domain)\n"
   ]
  },
  {
   "cell_type": "code",
   "execution_count": 3,
   "id": "e1c417c5-eb3c-48f8-bd14-e176ee42825a",
   "metadata": {},
   "outputs": [
    {
     "name": "stdout",
     "output_type": "stream",
     "text": [
      "Disagreement_Type\n",
      "All different    34\n",
      "FA diverged      12\n",
      "IT diverged       9\n",
      "EN diverged       5\n",
      "Name: count, dtype: int64\n"
     ]
    }
   ],
   "source": [
    "import pandas as pd\n",
    "\n",
    "# Load the merged GPT-4o shuffled output\n",
    "df = pd.read_csv(\"GPT4o_Shuffled_Merged_Multilingual.csv\")\n",
    "\n",
    "# Add Disagreement_Type column\n",
    "df[\"Disagreement_Type\"] = df.apply(lambda row: \n",
    "    \"FA diverged\" if row[\"GPT4o_EN\"] == row[\"GPT4o_IT\"] != row[\"GPT4o_FA\"] else\n",
    "    \"IT diverged\" if row[\"GPT4o_EN\"] == row[\"GPT4o_FA\"] != row[\"GPT4o_IT\"] else\n",
    "    \"EN diverged\" if row[\"GPT4o_FA\"] == row[\"GPT4o_IT\"] != row[\"GPT4o_EN\"] else\n",
    "    \"All different\", axis=1\n",
    ")\n",
    "\n",
    "# Print breakdown\n",
    "print(df[\"Disagreement_Type\"].value_counts())\n"
   ]
  },
  {
   "cell_type": "code",
   "execution_count": 4,
   "id": "4bda029f-38d0-4c01-a97e-81d298a2042d",
   "metadata": {},
   "outputs": [
    {
     "name": "stdout",
     "output_type": "stream",
     "text": [
      "Option frequency in FA:\n",
      "GPT4o_FA\n",
      "B    35.0\n",
      "C    35.0\n",
      "A    20.0\n",
      "D    10.0\n",
      "Name: proportion, dtype: float64\n"
     ]
    }
   ],
   "source": [
    "print(\"Option frequency in FA:\")\n",
    "print(df[\"GPT4o_FA\"].value_counts(normalize=True).round(2) * 100)"
   ]
  },
  {
   "cell_type": "code",
   "execution_count": 5,
   "id": "7d10f3cd-4fa4-4519-938b-7edbc9eb82ec",
   "metadata": {},
   "outputs": [
    {
     "name": "stdout",
     "output_type": "stream",
     "text": [
      "✅ Exported 30 disagreement cases to GPT4o_Shuffled_Disagreements.csv\n",
      "✅ Saved domain-wise disagreement counts to GPT4o_Shuffled_Disagreement_By_Domain.csv\n",
      "\n",
      "📊 Top domains with most disagreement:\n",
      "                     Domain  Disagreement_Count\n",
      "0     Politics & Leadership                   4\n",
      "1             Law & Justice                   4\n",
      "2            Arts & Culture                   3\n",
      "3  Activism & Social Change                   3\n",
      "4     Hospitality & Service                   3\n",
      "5   Religion & Spirituality                   3\n",
      "6                 Education                   2\n",
      "7                Healthcare                   2\n",
      "8      Science & Technology                   2\n",
      "9      Business & Economics                   2\n"
     ]
    }
   ],
   "source": [
    "import pandas as pd\n",
    "\n",
    "# Load your aligned GPT-4o shuffled results\n",
    "df = pd.read_csv(\"GPT4o_Shuffled_Merged_Multilingual.csv\")\n",
    "\n",
    "# Identify disagreement rows (not all 3 agree)\n",
    "df[\"Disagreement\"] = (df[\"GPT4o_EN\"] != df[\"GPT4o_FA\"]) | \\\n",
    "                     (df[\"GPT4o_EN\"] != df[\"GPT4o_IT\"]) | \\\n",
    "                     (df[\"GPT4o_FA\"] != df[\"GPT4o_IT\"])\n",
    "\n",
    "# Export only rows with disagreement\n",
    "df_disagreement = df[df[\"Disagreement\"] == True]\n",
    "df_disagreement.to_csv(\"GPT4o_Shuffled_Disagreements.csv\", index=False)\n",
    "print(f\"✅ Exported {len(df_disagreement)} disagreement cases to GPT4o_Shuffled_Disagreements.csv\")\n",
    "\n",
    "# Count disagreement cases per domain\n",
    "disagreement_by_domain = df_disagreement[\"Domain_EN\"].value_counts().reset_index()\n",
    "disagreement_by_domain.columns = [\"Domain\", \"Disagreement_Count\"]\n",
    "disagreement_by_domain.to_csv(\"GPT4o_Shuffled_Disagreement_By_Domain.csv\", index=False)\n",
    "print(\"✅ Saved domain-wise disagreement counts to GPT4o_Shuffled_Disagreement_By_Domain.csv\")\n",
    "\n",
    "# Show top domains with most disagreement\n",
    "print(\"\\n📊 Top domains with most disagreement:\")\n",
    "print(disagreement_by_domain.head(10))\n"
   ]
  },
  {
   "cell_type": "code",
   "execution_count": 6,
   "id": "57b7e28a-c3cf-4ca8-bd34-d5ede1157258",
   "metadata": {},
   "outputs": [
    {
     "name": "stdout",
     "output_type": "stream",
     "text": [
      "🔎 Full Agreement Rate:\n",
      "30/60 prompts (50.00%)\n",
      "\n",
      "🧩 Disagreement Types:\n",
      "                   count\n",
      "Disagreement_Type       \n",
      "All same              30\n",
      "FA diverged           12\n",
      "IT diverged            9\n",
      "EN diverged            5\n",
      "All different          4 \n",
      "\n",
      "🗳️ Option Frequency in Persian (GPT4o_FA):\n",
      "          proportion\n",
      "GPT4o_FA            \n",
      "B               0.35\n",
      "C               0.35\n",
      "A               0.20\n",
      "D               0.10 \n",
      "\n",
      "🌍 Domain-wise Disagreements:\n",
      "                          count\n",
      "Domain_EN                      \n",
      "Politics & Leadership         4\n",
      "Law & Justice                 4\n",
      "Arts & Culture                3\n",
      "Activism & Social Change      3\n",
      "Hospitality & Service         3\n",
      "Religion & Spirituality       3\n",
      "Education                     2\n",
      "Healthcare                    2\n",
      "Science & Technology          2\n",
      "Business & Economics          2\n",
      "Journalism & Media            1\n",
      "Caregiving & Parenting        1\n"
     ]
    }
   ],
   "source": [
    "import pandas as pd\n",
    "from collections import Counter\n",
    "\n",
    "# Load merged results file for GPT-4o shuffled\n",
    "df = pd.read_csv(\"GPT4o_Shuffled_Merged_Multilingual.csv\")\n",
    "\n",
    "# Check full agreement\n",
    "df[\"Full_Agreement\"] = (df[\"GPT4o_EN\"] == df[\"GPT4o_FA\"]) & (df[\"GPT4o_EN\"] == df[\"GPT4o_IT\"])\n",
    "\n",
    "# Classify type of disagreement\n",
    "def classify_disagreement(row):\n",
    "    choices = {row[\"GPT4o_EN\"], row[\"GPT4o_FA\"], row[\"GPT4o_IT\"]}\n",
    "    if len(choices) == 1:\n",
    "        return \"All same\"\n",
    "    elif len(choices) == 3:\n",
    "        return \"All different\"\n",
    "    elif row[\"GPT4o_EN\"] != row[\"GPT4o_FA\"] and row[\"GPT4o_EN\"] == row[\"GPT4o_IT\"]:\n",
    "        return \"FA diverged\"\n",
    "    elif row[\"GPT4o_EN\"] != row[\"GPT4o_IT\"] and row[\"GPT4o_EN\"] == row[\"GPT4o_FA\"]:\n",
    "        return \"IT diverged\"\n",
    "    elif row[\"GPT4o_EN\"] != row[\"GPT4o_FA\"] and row[\"GPT4o_FA\"] == row[\"GPT4o_IT\"]:\n",
    "        return \"EN diverged\"\n",
    "    else:\n",
    "        return \"Other\"\n",
    "\n",
    "df[\"Disagreement_Type\"] = df.apply(classify_disagreement, axis=1)\n",
    "\n",
    "# Count full agreement\n",
    "agreement_count = df[\"Full_Agreement\"].sum()\n",
    "total = len(df)\n",
    "agreement_pct = agreement_count / total * 100\n",
    "\n",
    "# Disagreement breakdown\n",
    "disagreement_summary = df[\"Disagreement_Type\"].value_counts().to_frame(\"count\")\n",
    "\n",
    "# Frequency of choices in Persian\n",
    "fa_freq = df[\"GPT4o_FA\"].value_counts(normalize=True).rename(\"proportion\").to_frame()\n",
    "\n",
    "# Domain-wise disagreement\n",
    "domain_disagreements = df[df[\"Disagreement_Type\"] != \"All same\"][\"Domain_EN\"].value_counts().to_frame(\"count\")\n",
    "\n",
    "# Display results\n",
    "print(\"🔎 Full Agreement Rate:\")\n",
    "print(f\"{agreement_count}/{total} prompts ({agreement_pct:.2f}%)\\n\")\n",
    "\n",
    "print(\"🧩 Disagreement Types:\")\n",
    "print(disagreement_summary, \"\\n\")\n",
    "\n",
    "print(\"🗳️ Option Frequency in Persian (GPT4o_FA):\")\n",
    "print(fa_freq, \"\\n\")\n",
    "\n",
    "print(\"🌍 Domain-wise Disagreements:\")\n",
    "print(domain_disagreements)\n"
   ]
  },
  {
   "cell_type": "code",
   "execution_count": null,
   "id": "48b5db87-3c5a-48ee-8be0-da5c0fbee140",
   "metadata": {},
   "outputs": [],
   "source": []
  }
 ],
 "metadata": {
  "kernelspec": {
   "display_name": "Python 3 (ipykernel)",
   "language": "python",
   "name": "python3"
  },
  "language_info": {
   "codemirror_mode": {
    "name": "ipython",
    "version": 3
   },
   "file_extension": ".py",
   "mimetype": "text/x-python",
   "name": "python",
   "nbconvert_exporter": "python",
   "pygments_lexer": "ipython3",
   "version": "3.12.1"
  }
 },
 "nbformat": 4,
 "nbformat_minor": 5
}
