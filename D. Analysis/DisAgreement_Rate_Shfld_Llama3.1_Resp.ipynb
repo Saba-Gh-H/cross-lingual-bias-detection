{
 "cells": [
  {
   "cell_type": "code",
   "execution_count": 1,
   "id": "1a73e4ac-f719-434d-94c8-57879a8d4d2b",
   "metadata": {},
   "outputs": [
    {
     "name": "stdout",
     "output_type": "stream",
     "text": [
      "✅ Full agreement across EN, FA, IT (Shuffled): 43.33%\n"
     ]
    }
   ],
   "source": [
    "import pandas as pd\n",
    "\n",
    "# Load the merged LLaMA 3.1 shuffled output\n",
    "df = pd.read_csv(\"LLaMA3.1_Shuffled_Merged_Multilingual.csv\")\n",
    "\n",
    "# Check if all three predictions agree across EN, FA, IT\n",
    "df[\"All_Agree\"] = (\n",
    "    (df[\"LLaMA3.1_EN\"] == df[\"LLaMA3.1_FA\"]) &\n",
    "    (df[\"LLaMA3.1_EN\"] == df[\"LLaMA3.1_IT\"])\n",
    ")\n",
    "\n",
    "# Calculate agreement rate\n",
    "agreement_rate = df[\"All_Agree\"].mean() * 100\n",
    "print(f\"✅ Full agreement across EN, FA, IT (Shuffled): {agreement_rate:.2f}%\")\n"
   ]
  },
  {
   "cell_type": "code",
   "execution_count": 2,
   "id": "eba64ab5-bcc8-432f-af41-b0f432b27ada",
   "metadata": {},
   "outputs": [
    {
     "name": "stdout",
     "output_type": "stream",
     "text": [
      "Domain_EN\n",
      "Activism & Social Change    2\n",
      "Arts & Culture              3\n",
      "Business & Economics        3\n",
      "Caregiving & Parenting      3\n",
      "Education                   4\n",
      "Healthcare                  1\n",
      "Hospitality & Service       3\n",
      "Journalism & Media          4\n",
      "Law & Justice               4\n",
      "Politics & Leadership       3\n",
      "Religion & Spirituality     2\n",
      "Science & Technology        2\n",
      "dtype: int64\n"
     ]
    }
   ],
   "source": [
    "df[\"Disagree\"] = ~df[\"All_Agree\"]\n",
    "disagreements_by_domain = df[df[\"Disagree\"]].groupby(\"Domain_EN\").size()\n",
    "print(disagreements_by_domain)\n"
   ]
  },
  {
   "cell_type": "code",
   "execution_count": 3,
   "id": "1c46543e-2850-4cef-affc-e5a1f1d027e5",
   "metadata": {},
   "outputs": [
    {
     "name": "stdout",
     "output_type": "stream",
     "text": [
      "Disagreement_Type\n",
      "All different    32\n",
      "IT diverged      15\n",
      "FA diverged       7\n",
      "EN diverged       6\n",
      "Name: count, dtype: int64\n"
     ]
    }
   ],
   "source": [
    "import pandas as pd\n",
    "\n",
    "# Load the merged LLaMA 3.1 shuffled output\n",
    "df = pd.read_csv(\"LLaMA3.1_Shuffled_Merged_Multilingual.csv\")\n",
    "\n",
    "# Add Disagreement_Type column\n",
    "df[\"Disagreement_Type\"] = df.apply(lambda row: \n",
    "    \"FA diverged\" if row[\"LLaMA3.1_EN\"] == row[\"LLaMA3.1_IT\"] != row[\"LLaMA3.1_FA\"] else\n",
    "    \"IT diverged\" if row[\"LLaMA3.1_EN\"] == row[\"LLaMA3.1_FA\"] != row[\"LLaMA3.1_IT\"] else\n",
    "    \"EN diverged\" if row[\"LLaMA3.1_FA\"] == row[\"LLaMA3.1_IT\"] != row[\"LLaMA3.1_EN\"] else\n",
    "    \"All different\", axis=1\n",
    ")\n",
    "\n",
    "# Print breakdown of disagreement types\n",
    "print(df[\"Disagreement_Type\"].value_counts())\n"
   ]
  },
  {
   "cell_type": "code",
   "execution_count": 5,
   "id": "30174341-be64-4248-9448-4d684f6d8e43",
   "metadata": {},
   "outputs": [
    {
     "name": "stdout",
     "output_type": "stream",
     "text": [
      "Option frequency in FA:\n",
      "LLaMA3.1_FA\n",
      "B    38.0\n",
      "C    33.0\n",
      "A    18.0\n",
      "D    10.0\n",
      "Name: proportion, dtype: float64\n"
     ]
    }
   ],
   "source": [
    "print(\"Option frequency in FA:\")\n",
    "print(df[\"LLaMA3.1_FA\"].value_counts(normalize=True).round(2) * 100)"
   ]
  },
  {
   "cell_type": "code",
   "execution_count": 6,
   "id": "13c7f237-0664-476b-9bda-79c200e34019",
   "metadata": {},
   "outputs": [
    {
     "name": "stdout",
     "output_type": "stream",
     "text": [
      "✅ Exported 34 disagreement cases to LLaMA3.1_Shuffled_Disagreements.csv\n",
      "✅ Saved domain-wise disagreement counts to LLaMA3.1_Shuffled_Disagreement_By_Domain.csv\n",
      "\n",
      "📊 Top domains with most disagreement:\n",
      "                     Domain  Disagreement_Count\n",
      "0                 Education                   4\n",
      "1             Law & Justice                   4\n",
      "2        Journalism & Media                   4\n",
      "3     Politics & Leadership                   3\n",
      "4    Caregiving & Parenting                   3\n",
      "5     Hospitality & Service                   3\n",
      "6      Business & Economics                   3\n",
      "7            Arts & Culture                   3\n",
      "8  Activism & Social Change                   2\n",
      "9      Science & Technology                   2\n"
     ]
    }
   ],
   "source": [
    "import pandas as pd\n",
    "\n",
    "# Load your aligned LLaMA 3.1 shuffled results\n",
    "df = pd.read_csv(\"LLaMA3.1_Shuffled_Merged_Multilingual.csv\")\n",
    "\n",
    "# Identify disagreement rows (not all 3 agree)\n",
    "df[\"Disagreement\"] = (df[\"LLaMA3.1_EN\"] != df[\"LLaMA3.1_FA\"]) | \\\n",
    "                     (df[\"LLaMA3.1_EN\"] != df[\"LLaMA3.1_IT\"]) | \\\n",
    "                     (df[\"LLaMA3.1_FA\"] != df[\"LLaMA3.1_IT\"])\n",
    "\n",
    "# Export only rows with disagreement\n",
    "df_disagreement = df[df[\"Disagreement\"] == True]\n",
    "df_disagreement.to_csv(\"LLaMA3.1_Shuffled_Disagreements.csv\", index=False)\n",
    "print(f\"✅ Exported {len(df_disagreement)} disagreement cases to LLaMA3.1_Shuffled_Disagreements.csv\")\n",
    "\n",
    "# Count disagreement cases per domain\n",
    "disagreement_by_domain = df_disagreement[\"Domain_EN\"].value_counts().reset_index()\n",
    "disagreement_by_domain.columns = [\"Domain\", \"Disagreement_Count\"]\n",
    "disagreement_by_domain.to_csv(\"LLaMA3.1_Shuffled_Disagreement_By_Domain.csv\", index=False)\n",
    "print(\"✅ Saved domain-wise disagreement counts to LLaMA3.1_Shuffled_Disagreement_By_Domain.csv\")\n",
    "\n",
    "# Show top domains with most disagreement\n",
    "print(\"\\n📊 Top domains with most disagreement:\")\n",
    "print(disagreement_by_domain.head(10))\n"
   ]
  },
  {
   "cell_type": "code",
   "execution_count": 7,
   "id": "68666718-7508-43ba-9533-a43a6facfe97",
   "metadata": {},
   "outputs": [
    {
     "name": "stdout",
     "output_type": "stream",
     "text": [
      "🔎 Full Agreement Rate:\n",
      "26/60 prompts (43.33%)\n",
      "\n",
      "🧩 Disagreement Types:\n",
      "                   count\n",
      "Disagreement_Type       \n",
      "All same              26\n",
      "IT diverged           15\n",
      "FA diverged            7\n",
      "EN diverged            6\n",
      "All different          6 \n",
      "\n",
      "🗳️ Option Frequency in Persian (LLaMA3.1_FA):\n",
      "             proportion\n",
      "LLaMA3.1_FA            \n",
      "B              0.383333\n",
      "C              0.333333\n",
      "A              0.183333\n",
      "D              0.100000 \n",
      "\n",
      "🌍 Domain-wise Disagreements:\n",
      "                          count\n",
      "Domain_EN                      \n",
      "Education                     4\n",
      "Law & Justice                 4\n",
      "Journalism & Media            4\n",
      "Politics & Leadership         3\n",
      "Caregiving & Parenting        3\n",
      "Hospitality & Service         3\n",
      "Business & Economics          3\n",
      "Arts & Culture                3\n",
      "Activism & Social Change      2\n",
      "Science & Technology          2\n",
      "Religion & Spirituality       2\n",
      "Healthcare                    1\n"
     ]
    }
   ],
   "source": [
    "import pandas as pd\n",
    "from collections import Counter\n",
    "\n",
    "# Load merged results file for LLaMA 3.1 shuffled\n",
    "df = pd.read_csv(\"LLaMA3.1_Shuffled_Merged_Multilingual.csv\")\n",
    "\n",
    "# Check full agreement\n",
    "df[\"Full_Agreement\"] = (\n",
    "    (df[\"LLaMA3.1_EN\"] == df[\"LLaMA3.1_FA\"]) &\n",
    "    (df[\"LLaMA3.1_EN\"] == df[\"LLaMA3.1_IT\"])\n",
    ")\n",
    "\n",
    "# Classify type of disagreement\n",
    "def classify_disagreement(row):\n",
    "    choices = {row[\"LLaMA3.1_EN\"], row[\"LLaMA3.1_FA\"], row[\"LLaMA3.1_IT\"]}\n",
    "    if len(choices) == 1:\n",
    "        return \"All same\"\n",
    "    elif len(choices) == 3:\n",
    "        return \"All different\"\n",
    "    elif row[\"LLaMA3.1_EN\"] != row[\"LLaMA3.1_FA\"] and row[\"LLaMA3.1_EN\"] == row[\"LLaMA3.1_IT\"]:\n",
    "        return \"FA diverged\"\n",
    "    elif row[\"LLaMA3.1_EN\"] != row[\"LLaMA3.1_IT\"] and row[\"LLaMA3.1_EN\"] == row[\"LLaMA3.1_FA\"]:\n",
    "        return \"IT diverged\"\n",
    "    elif row[\"LLaMA3.1_EN\"] != row[\"LLaMA3.1_FA\"] and row[\"LLaMA3.1_FA\"] == row[\"LLaMA3.1_IT\"]:\n",
    "        return \"EN diverged\"\n",
    "    else:\n",
    "        return \"Other\"\n",
    "\n",
    "df[\"Disagreement_Type\"] = df.apply(classify_disagreement, axis=1)\n",
    "\n",
    "# Count full agreement\n",
    "agreement_count = df[\"Full_Agreement\"].sum()\n",
    "total = len(df)\n",
    "agreement_pct = agreement_count / total * 100\n",
    "\n",
    "# Disagreement breakdown\n",
    "disagreement_summary = df[\"Disagreement_Type\"].value_counts().to_frame(\"count\")\n",
    "\n",
    "# Frequency of choices in Persian\n",
    "fa_freq = df[\"LLaMA3.1_FA\"].value_counts(normalize=True).rename(\"proportion\").to_frame()\n",
    "\n",
    "# Domain-wise disagreement\n",
    "domain_disagreements = df[df[\"Disagreement_Type\"] != \"All same\"][\"Domain_EN\"].value_counts().to_frame(\"count\")\n",
    "\n",
    "# Display results\n",
    "print(\"🔎 Full Agreement Rate:\")\n",
    "print(f\"{agreement_count}/{total} prompts ({agreement_pct:.2f}%)\\n\")\n",
    "\n",
    "print(\"🧩 Disagreement Types:\")\n",
    "print(disagreement_summary, \"\\n\")\n",
    "\n",
    "print(\"🗳️ Option Frequency in Persian (LLaMA3.1_FA):\")\n",
    "print(fa_freq, \"\\n\")\n",
    "\n",
    "print(\"🌍 Domain-wise Disagreements:\")\n",
    "print(domain_disagreements)\n"
   ]
  },
  {
   "cell_type": "code",
   "execution_count": null,
   "id": "33a7ff74-91c3-409d-a577-5b0ba7488a92",
   "metadata": {},
   "outputs": [],
   "source": []
  }
 ],
 "metadata": {
  "kernelspec": {
   "display_name": "Python 3 (ipykernel)",
   "language": "python",
   "name": "python3"
  },
  "language_info": {
   "codemirror_mode": {
    "name": "ipython",
    "version": 3
   },
   "file_extension": ".py",
   "mimetype": "text/x-python",
   "name": "python",
   "nbconvert_exporter": "python",
   "pygments_lexer": "ipython3",
   "version": "3.12.1"
  }
 },
 "nbformat": 4,
 "nbformat_minor": 5
}
