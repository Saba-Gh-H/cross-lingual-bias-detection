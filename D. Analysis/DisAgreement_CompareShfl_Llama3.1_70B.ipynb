{
 "cells": [
  {
   "cell_type": "code",
   "execution_count": 1,
   "id": "df7c0f61-348e-4728-8928-89ec7ec040c1",
   "metadata": {},
   "outputs": [
    {
     "name": "stdout",
     "output_type": "stream",
     "text": [
      "                     Agreement (%)  All Different  FA Diverged  IT Diverged  \\\n",
      "LLaMA3.1 (Original)          53.33              4            5           13   \n",
      "LLaMA3.1 (Shuffled)          43.33              6            7           15   \n",
      "\n",
      "                     EN Diverged  A_FA (%)  B_FA (%)  C_FA (%)  D_FA (%)  \n",
      "LLaMA3.1 (Original)            6     20.00     33.33     23.33     23.33  \n",
      "LLaMA3.1 (Shuffled)            6     18.33     38.33     33.33     10.00  \n"
     ]
    }
   ],
   "source": [
    "import pandas as pd\n",
    "\n",
    "def analyze_agreement(df, prefix):\n",
    "    en_col, fa_col, it_col = f\"{prefix}_EN\", f\"{prefix}_FA\", f\"{prefix}_IT\"\n",
    "    df[\"Full_Agreement\"] = (df[en_col] == df[fa_col]) & (df[en_col] == df[it_col])\n",
    "\n",
    "    def classify(row):\n",
    "        choices = {row[en_col], row[fa_col], row[it_col]}\n",
    "        if len(choices) == 1:\n",
    "            return \"All same\"\n",
    "        elif len(choices) == 3:\n",
    "            return \"All different\"\n",
    "        elif row[en_col] == row[it_col] and row[fa_col] != row[en_col]:\n",
    "            return \"FA diverged\"\n",
    "        elif row[en_col] == row[fa_col] and row[it_col] != row[en_col]:\n",
    "            return \"IT diverged\"\n",
    "        elif row[fa_col] == row[it_col] and row[en_col] != row[fa_col]:\n",
    "            return \"EN diverged\"\n",
    "        return \"Other\"\n",
    "\n",
    "    df[\"Disagreement_Type\"] = df.apply(classify, axis=1)\n",
    "    agreement_pct = round(df[\"Full_Agreement\"].mean() * 100, 2)\n",
    "    disagreement = df[\"Disagreement_Type\"].value_counts().to_dict()\n",
    "    fa_dist = df[fa_col].value_counts(normalize=True).mul(100).round(2).to_dict()\n",
    "\n",
    "    return {\n",
    "        \"Agreement (%)\": agreement_pct,\n",
    "        \"All Different\": disagreement.get(\"All different\", 0),\n",
    "        \"FA Diverged\": disagreement.get(\"FA diverged\", 0),\n",
    "        \"IT Diverged\": disagreement.get(\"IT diverged\", 0),\n",
    "        \"EN Diverged\": disagreement.get(\"EN diverged\", 0),\n",
    "        \"A_FA (%)\": fa_dist.get(\"A\", 0),\n",
    "        \"B_FA (%)\": fa_dist.get(\"B\", 0),\n",
    "        \"C_FA (%)\": fa_dist.get(\"C\", 0),\n",
    "        \"D_FA (%)\": fa_dist.get(\"D\", 0),\n",
    "    }\n",
    "\n",
    "# Load both datasets\n",
    "df_orig = pd.read_csv(\"LLaMA3.1_70_Merged_Multilingual.csv\")\n",
    "df_shfl = pd.read_csv(\"LLaMA3.1_Shuffled_Merged_Multilingual.csv\")\n",
    "\n",
    "# Analyze\n",
    "original_metrics = analyze_agreement(df_orig, prefix=\"LLaMA3.1\")\n",
    "shuffled_metrics = analyze_agreement(df_shfl, prefix=\"LLaMA3.1\")\n",
    "\n",
    "# Combine into one table\n",
    "summary_df = pd.DataFrame([original_metrics, shuffled_metrics], index=[\"LLaMA3.1 (Original)\", \"LLaMA3.1 (Shuffled)\"])\n",
    "print(summary_df)\n"
   ]
  },
  {
   "cell_type": "code",
   "execution_count": 2,
   "id": "c8470886-e472-4217-a4b2-5aa54b61e676",
   "metadata": {},
   "outputs": [
    {
     "name": "stdout",
     "output_type": "stream",
     "text": [
      "\\begin{table}\n",
      "\\caption{Comparison of agreement and Persian (FA) option distributions for LLaMA3.1 before and after option shuffling.}\n",
      "\\label{tab:llama3.1_shuffle_comparison}\n",
      "\\begin{tabular}\\small\\setlength{\\tabcolsep}{4pt}{lccccccccc}\n",
      "\\toprule\\normalsize\n",
      "Model & Agreement (%) & All Different & FA Diverged & IT Diverged & EN Diverged & A_FA (%) & B_FA (%) & C_FA (%) & D_FA (%) \\\\\n",
      "\\midrule\n",
      "LLaMA3.1 (Original) & 53.330000 & 36 & 5 & 13 & 6 & 20.000000 & 33.000000 & 23.000000 & 23.000000 \\\\\n",
      "LLaMA3.1 (Shuffled) & 43.330000 & 32 & 7 & 15 & 6 & 18.000000 & 38.000000 & 33.000000 & 10.000000 \\\\\n",
      "\\bottomrule\n",
      "\\end{tabular}\n",
      "\\end{table}\n",
      "\n"
     ]
    }
   ],
   "source": [
    "import pandas as pd\n",
    "\n",
    "# Manually enter the summarized results from your analysis\n",
    "data = {\n",
    "    \"Model\": [\"LLaMA3.1 (Original)\", \"LLaMA3.1 (Shuffled)\"],\n",
    "    \"Agreement (%)\": [53.33, 43.33],\n",
    "    \"All Different\": [36, 32],\n",
    "    \"FA Diverged\": [5, 7],\n",
    "    \"IT Diverged\": [13, 15],\n",
    "    \"EN Diverged\": [6, 6],\n",
    "    \"A_FA (%)\": [20.0, 18.0],\n",
    "    \"B_FA (%)\": [33.0, 38.0],\n",
    "    \"C_FA (%)\": [23.0, 33.0],\n",
    "    \"D_FA (%)\": [23.0, 10.0],\n",
    "}\n",
    "\n",
    "df = pd.DataFrame(data)\n",
    "\n",
    "# Generate compact LaTeX table for ECAI one-column format\n",
    "latex = df.to_latex(\n",
    "    index=False,\n",
    "    caption=\"Comparison of agreement and Persian (FA) option distributions for LLaMA3.1 before and after option shuffling.\",\n",
    "    label=\"tab:llama3.1_shuffle_comparison\",\n",
    "    column_format=\"lccccccccc\",\n",
    "    escape=False,\n",
    "    longtable=False\n",
    ")\n",
    "\n",
    "# Insert formatting commands manually\n",
    "latex = latex.replace(r\"\\begin{tabular}\", r\"\\begin{tabular}\\small\\setlength{\\tabcolsep}{4pt}\")\n",
    "latex = latex.replace(r\"\\toprule\", r\"\\toprule\\normalsize\")\n",
    "\n",
    "print(latex)\n"
   ]
  },
  {
   "cell_type": "code",
   "execution_count": 3,
   "id": "354fba45-d5f5-4384-b5c4-e40918bd6a92",
   "metadata": {},
   "outputs": [
    {
     "name": "stdout",
     "output_type": "stream",
     "text": [
      "\n",
      "Original LLaMA3.1:\n",
      "Bootstrapped 95% CI for agreement:\n",
      "Mean agreement: 53.28%\n",
      "95% Confidence Interval: [41.67%, 66.67%]\n",
      "\n",
      "Shuffled LLaMA3.1:\n",
      "Bootstrapped 95% CI for agreement:\n",
      "Mean agreement: 43.10%\n",
      "95% Confidence Interval: [31.67%, 55.00%]\n"
     ]
    }
   ],
   "source": [
    "import pandas as pd\n",
    "import numpy as np\n",
    "\n",
    "def bootstrap_agreement_CI(filepath, prefix, num_bootstrap=1000, confidence=0.95):\n",
    "    df = pd.read_csv(filepath)\n",
    "    en, fa, it = f\"{prefix}_EN\", f\"{prefix}_FA\", f\"{prefix}_IT\"\n",
    "    df[\"Full_Agreement\"] = (df[en] == df[fa]) & (df[en] == df[it])\n",
    "\n",
    "    # Bootstrapping\n",
    "    bootstrapped_agreements = []\n",
    "    for _ in range(num_bootstrap):\n",
    "        sample = df.sample(frac=1.0, replace=True)\n",
    "        agreement_pct = sample[\"Full_Agreement\"].mean() * 100\n",
    "        bootstrapped_agreements.append(agreement_pct)\n",
    "\n",
    "    lower_bound = np.percentile(bootstrapped_agreements, (1 - confidence) / 2 * 100)\n",
    "    upper_bound = np.percentile(bootstrapped_agreements, (1 + confidence) / 2 * 100)\n",
    "    mean_agreement = np.mean(bootstrapped_agreements)\n",
    "\n",
    "    print(f\"Bootstrapped {int(confidence*100)}% CI for agreement:\")\n",
    "    print(f\"Mean agreement: {mean_agreement:.2f}%\")\n",
    "    print(f\"{int(confidence*100)}% Confidence Interval: [{lower_bound:.2f}%, {upper_bound:.2f}%]\")\n",
    "\n",
    "# Run for LLaMA3.1\n",
    "print(\"\\nOriginal LLaMA3.1:\")\n",
    "bootstrap_agreement_CI(\"LLaMA3.1_70_Merged_Multilingual.csv\", \"LLaMA3.1\")\n",
    "\n",
    "print(\"\\nShuffled LLaMA3.1:\")\n",
    "bootstrap_agreement_CI(\"LLaMA3.1_Shuffled_Merged_Multilingual.csv\", \"LLaMA3.1\")\n",
    "\n"
   ]
  },
  {
   "cell_type": "code",
   "execution_count": null,
   "id": "8de50249-e70a-4eea-95e8-39f5826aed34",
   "metadata": {},
   "outputs": [],
   "source": []
  }
 ],
 "metadata": {
  "kernelspec": {
   "display_name": "Python 3 (ipykernel)",
   "language": "python",
   "name": "python3"
  },
  "language_info": {
   "codemirror_mode": {
    "name": "ipython",
    "version": 3
   },
   "file_extension": ".py",
   "mimetype": "text/x-python",
   "name": "python",
   "nbconvert_exporter": "python",
   "pygments_lexer": "ipython3",
   "version": "3.12.1"
  }
 },
 "nbformat": 4,
 "nbformat_minor": 5
}
